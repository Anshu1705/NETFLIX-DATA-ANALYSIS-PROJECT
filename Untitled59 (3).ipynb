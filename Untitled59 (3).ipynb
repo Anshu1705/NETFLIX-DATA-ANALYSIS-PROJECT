{
  "nbformat": 4,
  "nbformat_minor": 0,
  "metadata": {
    "colab": {
      "private_outputs": true,
      "provenance": []
    },
    "kernelspec": {
      "name": "python3",
      "display_name": "Python 3"
    },
    "language_info": {
      "name": "python"
    }
  },
  "cells": [
    {
      "cell_type": "markdown",
      "source": [
        "# Netflix Data Analysis Project\n",
        "Netflix is one of the largest streaming platforms nowadays.In this project, I analyzed their dataset of movies and TV shows using python Pandas, Seaborn and Matplotlib. After this analysis, we will gain a better understanding of the platform and derive meaningful insights from the data through visualized graphs."
      ],
      "metadata": {
        "id": "8KK1S7y_arpw"
      }
    },
    {
      "cell_type": "code",
      "source": [
        "import numpy as np\n",
         "import pandas as pd\n",
        "import matplotlib.pyplot as plt\n",
        "%matplotlib inline\n",
        "import matplotlib\n",
        "import seaborn as sns"
      ],
      "metadata": {
        "id": "Tx2ZEVf-cJTS"
      },
      "execution_count": null,
      "outputs": []
    },
    {
      "cell_type": "code",
      "source": [
        "import pandas as pd\n",
        "data=pd.read_csv(\"/content/netflix_titles.csv (2).zip\")\n",
        "data"
      ],
      "metadata": {
        "id": "rtVAVqi6hBDt"
      },
      "execution_count": null,
      "outputs": []
    },
    {
      "cell_type": "code",
      "source": [
        "data.head(5)"
      ],
      "metadata": {
        "id": "JVaxULSQhf8e"
      },
      "execution_count": null,
      "outputs": []
    },
    {
      "cell_type": "code",
      "source": [
        "data.size"
      ],
      "metadata": {
        "id": "_cNAM6Qshmwq"
      },
      "execution_count": null,
      "outputs": []
    },
    {
      "cell_type": "code",
      "source": [
        "data.dtypes"
      ],
      "metadata": {
        "id": "38RaRYF8hrxy"
      },
      "execution_count": null,
      "outputs": []
    },
    {
      "cell_type": "code",
      "source": [
        "data.info()"
      ],
      "metadata": {
        "id": "YOfNIn2ehxGX"
      },
      "execution_count": null,
      "outputs": []
    },
    {
      "cell_type": "code",
      "source": [
        "data[data.duplicated()]"
      ],
      "metadata": {
        "id": "dENcAcrmh1Oc"
      },
      "execution_count": null,
      "outputs": []
    },
    {
      "cell_type": "code",
      "source": [
        "data.drop_duplicates(inplace=True)"
      ],
      "metadata": {
        "id": "d-TzDe-HiAKc"
      },
      "execution_count": null,
      "outputs": []
    },
    {
      "cell_type": "markdown",
      "source": [
        "By using \"inplace=True\",make the change last permanently in the dataset."
      ],
      "metadata": {
        "id": "wNHBA9Jdifz8"
      }
    },
    {
      "cell_type": "code",
      "source": [
        "data[data.duplicated]"
      ],
      "metadata": {
        "id": "fDmZgPISiSwB"
      },
      "execution_count": null,
      "outputs": []
    },
    {
      "cell_type": "code",
      "source": [
        "data.shape"
      ],
      "metadata": {
        "id": "qRUW-1JYicMs"
      },
      "execution_count": null,
      "outputs": []
    },
    {
      "cell_type": "markdown",
      "source": [
        "# Show null value with heat map\n",
        "\n"
      ],
      "metadata": {
        "id": "klzg00fzvID8"
      }
    },
    {
      "cell_type": "markdown",
      "source": [
        "After removing duplicated data, our next step involved examining the presence of null values within the dataset. This crucial analysis allows us to identify any missing or incomplete data points, enabling us to address them effectively before further processing."
      ],
      "metadata": {
        "id": "wI_wxfeBwA7J"
      }
    },
    {
      "cell_type": "code",
      "source": [
        "data.head()"
      ],
      "metadata": {
        "id": "9Wrib9qYwpeA"
      },
      "execution_count": null,
      "outputs": []
    },
    {
      "cell_type": "code",
      "source": [
        "data.isnull()"
      ],
      "metadata": {
        "id": "Cv-Jo9Z3wy-7"
      },
      "execution_count": null,
      "outputs": []
    },
    {
      "cell_type": "code",
      "source": [
        "data.isnull().sum()"
      ],
      "metadata": {
        "id": "pnz-W5Ohw3M6"
      },
      "execution_count": null,
      "outputs": []
    },
    {
      "cell_type": "code",
      "source": [
        "import matplotlib.pyplot as plt\n",
        "import seaborn as sns\n",
        "sns.heatmap(data.isnull())\n",
        "plt.title('Null value with heat map')"
      ],
      "metadata": {
        "id": "T9UEGqzNxAVi"
      },
      "execution_count": null,
      "outputs": []
    },
    {
      "cell_type": "markdown",
      "source": [
        "# Q&A and Visualization: Let's dig deeper!"
      ],
      "metadata": {
        "id": "sacX9IBiyovA"
      }
    },
    {
      "cell_type": "markdown",
      "source": [
        "# Q1. For \"House of cards\", What is the show ID and who is the director of this show?"
      ],
      "metadata": {
        "id": "gEGk8TxmzCad"
      }
    },
    {
      "cell_type": "code",
      "source": [
        "\n",
        "data[data['title'].isin(['House of Cards'])]"
      ],
      "metadata": {
        "id": "ulr2bvEvzVUH"
      },
      "execution_count": null,
      "outputs": []
    },
    {
      "cell_type": "markdown",
      "source": [
        "Another way to find certain data is by using the \"str.contains\" function."
      ],
      "metadata": {
        "id": "R5RTegjZ1ASn"
      }
    },
    {
      "cell_type": "code",
      "source": [
        "data[data['title'].str.contains('House of Cards')]"
      ],
      "metadata": {
        "id": "5_dciInY1QA6"
      },
      "execution_count": null,
      "outputs": []
    },
    {
      "cell_type": "markdown",
      "source": [
        "# Q2. In which year the highest number of movies and TV shows were released? w/Bar Graph"
      ],
      "metadata": {
        "id": "j7AeNObZ2RPW"
      }
    },
    {
      "cell_type": "code",
      "source": [
        "data.dtypes"
      ],
      "metadata": {
        "id": "2aqTbyJw2q2e"
      },
      "execution_count": null,
      "outputs": []
    },
    {
      "cell_type": "code",
      "source": [
        "data['Date_N'] = pd.to_datetime(data['release_year'])\n",
        "\n"
      ],
      "metadata": {
        "id": "IBTsfXw02uv9"
      },
      "execution_count": null,
      "outputs": []
    },
    {
      "cell_type": "code",
      "source": [
        "import pandas as pd\n",
        "import matplotlib.pyplot as plt\n",
        "\n",
        "# Assuming you have a DataFrame named 'data' with columns 'type' and 'release_year'\n",
        "\n",
        "# Group by 'release_year' and 'type', count the number of entries in each group\n",
        "counts_by_year = data.groupby(['release_year', 'type']).size().unstack(fill_value=0)\n",
        "\n",
        "# Calculate the total count of movies and TV shows for each year\n",
        "counts_by_year['Total'] = counts_by_year.sum(axis=1)\n",
        "\n",
        "# Find the year with the highest total count\n",
        "year_with_highest_count = counts_by_year['Total'].idxmax()\n",
        "\n",
        "# Plotting\n",
        "counts_by_year['Total'].plot(kind='bar', color='skyblue', figsize=(10, 6))\n",
        "plt.title('Number of Movies and TV Shows Released Each Year')\n",
        "plt.xlabel('Year')\n",
        "plt.ylabel('Number of Releases')\n",
        "plt.xticks(rotation=45)\n",
        "plt.tight_layout()\n",
        "plt.show()\n",
        "\n",
        "print(f\"The year with the highest number of movies and TV shows released was {year_with_highest_count} with a total of {counts_by_year['Total'].max()} releases.\")\n"
      ],
      "metadata": {
        "id": "9cArPlvT4Z_g"
      },
      "execution_count": null,
      "outputs": []
    },
    {
      "cell_type": "code",
      "source": [
        "data['Date_N'].dt.year.value_counts()\n"
      ],
      "metadata": {
        "id": "fvDrQzqv31Mg"
      },
      "execution_count": null,
      "outputs": []
    },
    {
      "cell_type": "markdown",
      "source": [
        "# Q3. How many movies & TV shows are in this data set?"
      ],
      "metadata": {
        "id": "foyLfcGpCKES"
      }
    },
    {
      "cell_type": "code",
      "source": [
        "data.groupby('type').type.count()"
      ],
      "metadata": {
        "id": "CBjdLiQPCb0p"
      },
      "execution_count": null,
      "outputs": []
    },
    {
      "cell_type": "code",
      "source": [
        "sns.countplot(x=data['type'])\n",
        "plt.title(\"Number of Movies and TV Shows\")\n",
        "plt.xlabel(\"Movies/TV Shows\")\n",
        "plt.ylabel(\"Total Count\")"
      ],
      "metadata": {
        "id": "oT-74J07C8s0"
      },
      "execution_count": null,
      "outputs": []
    },
    {
      "cell_type": "markdown",
      "source": [
        "The dataset consists of over 2,500 TV shows and 6,000 movies. It is evident that the number of movies is more than twice that of TV Shows."
      ],
      "metadata": {
        "id": "nGzoHgX8DrJi"
      }
    },
    {
      "cell_type": "markdown",
      "source": [
        "# Q4. Show all the movies that were released in 2021?"
      ],
      "metadata": {
        "id": "0rQ4Hq1tEZO7"
      }
    },
    {
      "cell_type": "code",
      "source": [
        "data[(data['type']=='Movie')&(data['release_year']== 2021)]"
      ],
      "metadata": {
        "id": "vJQ0w9RwEqLn"
      },
      "execution_count": null,
      "outputs": []
    },
    {
      "cell_type": "markdown",
      "source": [
        "# Number of Movies and TV Shows each year"
      ],
      "metadata": {
        "id": "0HmmapOdFKnp"
      }
    },
    {
      "cell_type": "code",
      "source": [
        "plt.figure(figsize=(35,6))\n",
        "sns.countplot(data=data,x=\"release_year\",hue=\"type\")\n",
        "plt.title(\"Number of Movies and TV Shows each year\")"
      ],
      "metadata": {
        "id": "0qlsFI9cFUkH"
      },
      "execution_count": null,
      "outputs": []
    },
    {
      "cell_type": "markdown",
      "source": [
        "Each year, the dataset consistently exhibits a higher count of movies compared to TV shows except 2021."
      ],
      "metadata": {
        "id": "uLeNYvQNRXyG"
      }
    },
    {
      "cell_type": "markdown",
      "source": [
        "# Q5. Show only the Title of all TV Shows that were released in United States only?"
      ],
      "metadata": {
        "id": "C9Fc0FcsSe3q"
      }
    },
    {
      "cell_type": "code",
      "source": [
        "data[(data['type']=='TV Show')&(data['country']== 'United States')]"
      ],
      "metadata": {
        "id": "SBpkJgL6SxR4"
      },
      "execution_count": null,
      "outputs": []
    },
    {
      "cell_type": "markdown",
      "source": [
        "# Top 15 Countries on Netflix based on amount of content"
      ],
      "metadata": {
        "id": "gcEzR4hpWDpW"
      }
    },
    {
      "cell_type": "code",
      "source": [
        "import pandas as pd\n",
        " # Splitting countries and stacking them\n",
        "filtered_countries = data['country'].str.split(',', expand=True).stack().reset_index(drop=True)\n",
        "\n",
        "# Counting occurrences of each country\n",
        "country_counts = filtered_countries.value_counts()\n",
        "\n",
        "# Extracting the top 15 countries\n",
        "top_15_countries = country_counts.head(15)\n",
        "\n",
        "# Displaying the result\n",
        "print(\"Top 15 Countries on Netflix based on amount of content:\")\n",
        "print(top_15_countries)\n"
      ],
      "metadata": {
        "id": "ss_6YEcPWPgE"
      },
      "execution_count": null,
      "outputs": []
    },
    {
      "cell_type": "code",
      "source": [
        "import pandas as pd\n",
        "import matplotlib.pyplot as plt\n",
        "\n",
        "# Assuming you have a DataFrame named 'data' with columns 'type' and 'country'\n",
        "\n",
        "# Splitting countries and stacking them\n",
        "filtered_countries = data['country'].str.split(',', expand=True).stack().reset_index(drop=True)\n",
        "\n",
        "# Counting occurrences of each country\n",
        "country_counts = filtered_countries.value_counts()\n",
        "\n",
        "# Extracting the top 15 countries\n",
        "top_15_countries = country_counts.head(15)\n",
        "\n",
        "# Plotting\n",
        "plt.figure(figsize=(10, 6))\n",
        "top_15_countries.plot(kind='bar')\n",
        "plt.title(\"Top 15 Countries on Netflix based on amount of content\")\n",
        "plt.xlabel(\"Country\")\n",
        "plt.ylabel(\"Number of Content\")\n",
        "plt.xticks(rotation=45, ha='right')\n",
        "plt.tight_layout()\n",
        "plt.show()\n"
      ],
      "metadata": {
        "id": "Irz1H83Nb7j4"
      },
      "execution_count": null,
      "outputs": []
    },
    {
      "cell_type": "markdown",
      "source": [
        "The United States has the most content on Netflix,followed by India in second place and the United Kingdom in third place.There is a considerable gap between the number of content offerings from the U.S. and India.The U.S. has over 3000 content items, while india has 900+ content items in second place. This highlights the dominance of U.S. content on Netflix when it comes to quantity. There are several Asian countries that rank prominently. This indicates a growing trend of anime and K-drama on Netflix,reflecting their popularity among viewers."
      ],
      "metadata": {
        "id": "_B4bfKQscVKc"
      }
    },
    {
      "cell_type": "markdown",
      "source": [
        "# Q7. Show Top 10 Directors who gave the highest number of TV Shows & Movies to Netflix"
      ],
      "metadata": {
        "id": "WqX6S3XoewPO"
      }
    },
    {
      "cell_type": "code",
      "source": [
        "import pandas as pd\n",
        "\n",
        "# Grouping by director and counting the number of entries (movies and TV shows) for each director\n",
        "movie_director = data.groupby('director').size().reset_index(name='Count')\n",
        "\n",
        "# Sorting by count in descending order and selecting the top 10 directors\n",
        "movie_director = movie_director.sort_values(by='Count', ascending=False).head(10)\n",
        "\n",
        "# Displaying the result\n",
        "print(\"Top 10 Directors who gave the highest number of TV Shows & Movies to Netflix:\")\n",
        "print(movie_director)\n"
      ],
      "metadata": {
        "id": "svyVEgeSfGBT"
      },
      "execution_count": null,
      "outputs": []
    },
    {
      "cell_type": "markdown",
      "source": [
        "# Q8. Show all Records, where \"type is TV Show and Type is British TV Shows\" or \"Country is United Kingdom."
      ],
      "metadata": {
        "id": "1rzobzJAhjmZ"
      }
    },
    {
      "cell_type": "code",
      "source": [
        "filtered_records = data[(data['type'] == 'TV Show') & (data['listed_in'].str.contains('British TV Shows')) | (data['country'] == 'United Kingdom')]\n",
        "print (filtered_records)\n",
        "\n"
      ],
      "metadata": {
        "id": "GxIlRZ1Th-Si"
      },
      "execution_count": null,
      "outputs": []
    },
    {
      "cell_type": "markdown",
      "source": [
        "# In how many movies/shows,Tom Cruise was cast?"
      ],
      "metadata": {
        "id": "u5AeHFrwkgH8"
      }
    },
    {
      "cell_type": "code",
      "source": [
        "\n",
        "tom_cruise_count = data[data['cast'].str.contains('Tom Cruise', na=False)].shape[0]\n",
        "print(\"Tom Cruise was cast in\", tom_cruise_count, \"movies/shows.\")\n"
      ],
      "metadata": {
        "id": "y3ZrbVFIkySb"
      },
      "execution_count": null,
      "outputs": []
    },
    {
      "cell_type": "markdown",
      "source": [
        "# Q10. What are the different Ratings defined by Netflix?"
      ],
      "metadata": {
        "id": "9HdW-xRbmCre"
      }
    },
    {
      "cell_type": "code",
      "source": [
        "data['rating'].unique()"
      ],
      "metadata": {
        "id": "7wJjVy42mOav"
      },
      "execution_count": null,
      "outputs": []
    },
    {
      "cell_type": "code",
      "source": [
        "data['rating'].nunique()"
      ],
      "metadata": {
        "id": "MzpthPLWes1N"
      },
      "execution_count": null,
      "outputs": []
    },
    {
      "cell_type": "code",
      "source": [
        "import seaborn as sns\n",
        "import matplotlib.pyplot as plt\n",
        "unique_ratings = data['rating'].unique()\n",
        "plt.figure(figsize=(10, 6))\n",
        "sns.countplot(data=data, x='rating', order=unique_ratings)\n",
        "plt.title(\"Distribution of Netflix Ratings\")\n",
        "plt.xlabel(\"Rating\")\n",
        "plt.ylabel(\"Count\")\n",
        "plt.xticks(rotation=45)\n",
        "plt.show()\n"
      ],
      "metadata": {
        "id": "Cbb4t2smSVYU"
      },
      "execution_count": null,
      "outputs": []
    },
    {
      "cell_type": "markdown",
      "source": [
        "# Q10-(1). How many Movies got the 'TV-14' rating, in Canada?"
      ],
      "metadata": {
        "id": "zuhiQEpAnbQ-"
      }
    },
    {
      "cell_type": "code",
      "source": [
        "tv_14_canada_movies = data[(data['type'] == 'Movie') & (data['rating'] == 'TV-14') & (data['country'] == 'Canada')]\n",
        "tv_14_canada_movie_count = tv_14_canada_movies.shape[0]\n",
        "print(\"Number of movies with 'TV-14' rating in Canada:\", tv_14_canada_movie_count)\n",
        "\n"
      ],
      "metadata": {
        "id": "QcW-LX7TntTk"
      },
      "execution_count": null,
      "outputs": []
    },
    {
      "cell_type": "markdown",
      "source": [
        "# Q10-(2). How many TV Shows got the 'R' rating,after year 2020?"
      ],
      "metadata": {
        "id": "t-_CeBKTohXf"
      }
    },
    {
      "cell_type": "code",
      "source": [
        "filtered_data = data[(data['type'] == 'TV Show') & (data['rating'] == 'R') & (data['release_year'] > 2020)]\n",
        "num_tv_shows_rated_r_after_2020 = len(filtered_data)\n",
        "print(\"Number of TV shows with an 'R' rating released after 2020:\", num_tv_shows_rated_r_after_2020)\n"
      ],
      "metadata": {
        "id": "ElWjRQaooz2Z"
      },
      "execution_count": null,
      "outputs": []
    },
    {
      "cell_type": "markdown",
      "source": [
        "# Q11. What is the maximum duration of a Movie/Show on Netflix?"
      ],
      "metadata": {
        "id": "u-dtmXHKqQWS"
      }
    },
    {
      "cell_type": "code",
      "source": [
        "data['duration'].unique()"
      ],
      "metadata": {
        "id": "050oArDJqfQz"
      },
      "execution_count": null,
      "outputs": []
    },
    {
      "cell_type": "code",
      "source": [
        "data.duration.dtypes"
      ],
      "metadata": {
        "id": "8_D12KpBqtH4"
      },
      "execution_count": null,
      "outputs": []
    },
    {
      "cell_type": "markdown",
      "source": [
        "Duration data is an object format so we have to format it as integer to find the maximum duration."
      ],
      "metadata": {
        "id": "Ptoyli6tq3lq"
      }
    },
    {
      "cell_type": "code",
      "source": [
        "data[['Minutes','Unit']] = data['duration'].str.split(' ',expand=True)\n",
        "data.head(2)"
      ],
      "metadata": {
        "id": "MEcRn4L1rKKA"
      },
      "execution_count": null,
      "outputs": []
    },
    {
      "cell_type": "code",
      "source": [
        "data['Minutes']=pd.to_numeric(data['Minutes'])\n",
        "data['Minutes'].max()"
      ],
      "metadata": {
        "id": "crDTHEZjrm1t"
      },
      "execution_count": null,
      "outputs": []
    },
    {
      "cell_type": "markdown",
      "source": [
        "As an initial step we converted the duration data type to numeric values. This allowed us to analyze the content duration more effectively. By separating the duration into minutes and units, we discovered that the longest content on Netflix has a duration of 312 minutes."
      ],
      "metadata": {
        "id": "j949o4zssILJ"
      }
    },
    {
      "cell_type": "markdown",
      "source": [
        "# Q12. Which individual country has the Highest No. of TV Shows?"
      ],
      "metadata": {
        "id": "IeoIbbDttDlt"
      }
    },
    {
      "cell_type": "code",
      "source": [
        "data_tvshow=data[data ['type']=='TV Show']\n",
        "data_tvshow.head()\n"
      ],
      "metadata": {
        "id": "mu3opYPbsuKA"
      },
      "execution_count": null,
      "outputs": []
    },
    {
      "cell_type": "code",
      "source": [
        "data_tvshow.country.value_counts().head(1)"
      ],
      "metadata": {
        "id": "CDKxb8Q-t0P_"
      },
      "execution_count": null,
      "outputs": []
    },
    {
      "cell_type": "markdown",
      "source": [
        "Based on the visual representation of the\"Top 15 Countries on Netflix,\"It is evident that the United States has the highest number of TV Shows, as they occupy the first position in the graph."
      ],
      "metadata": {
        "id": "G7rr50Rktj8g"
      }
    },
    {
      "cell_type": "markdown",
      "source": [
        "# Q13.How can we sort the dataset by release_year?"
      ],
      "metadata": {
        "id": "1engBbBKunID"
      }
    },
    {
      "cell_type": "code",
      "source": [
        "data.sort_values(by='release_year',ascending=False).head(5)"
      ],
      "metadata": {
        "id": "WQO8B10Iuwku"
      },
      "execution_count": null,
      "outputs": []
    },
    {
      "cell_type": "markdown",
      "source": [
        "# Q14.Find all the instances where:type is Movie and listed_in is 'Dramas'or type is 'TV Show'& listed_in is 'Dramas'."
      ],
      "metadata": {
        "id": "A9LM9Qh9vprm"
      }
    },
    {
      "cell_type": "code",
      "source": [
        "data[(data['type']=='Movie')&( data['listed_in']=='Dramas')| (data['type']=='TV Show')&( data['listed_in']=='Dramas')]\n"
      ],
      "metadata": {
        "id": "6o9_O88FwzAP"
      },
      "execution_count": null,
      "outputs": []
    },
    {
      "cell_type": "markdown",
      "source": [],
      "metadata": {
        "id": "z04CgnJHz8jg"
      }
    },
    {
      "cell_type": "markdown",
      "source": [
        "# Conclusions and Insights"
      ],
      "metadata": {
        "id": "-sdcCMiVxb5F"
      }
    },
    {
      "cell_type": "markdown",
      "source": [
        "(1) The number of movies and TV shows on Netflix has been steadily increasing until 2019, but there was a decrease in content in 2020. This decline might be due to the COVID-19 pandemic, which likely affected the production and availability of new content during that year.\n",
        "\n",
        "(2) The dataset consists of a total of 8807 content items,with 6,131 movies and 2,676 TV Shows.Each year,the dataset consistently exhibits a higher count of movies compared to TV Shows except 2021.\n",
        "\n",
        "(3) The United States has the most content on Netflix, followed by India in second place and the United Kingdom in third place.In terms of quantity, the United States takes the lead on Netflix with over 3,000 content items emphasizing its dominant position.In contrast,India two countries when it comes to the number of content on Netflix.\n",
        "\n",
        "(4) There are several Asian countries that rank prominently. This indicates a growing trend of anime and K-drama on Netflix,reflecting their popularity among viewers.\n",
        "\n",
        "(5) The most common rating on Netflix is \"TV-MA\",This indicates that there is a higher proportion of content targeted toward mature audiences rather than younger viewers.\n",
        "\n",
        "(6) We discovered that the longest content on Netflix has a duration of 312 minutes.\n",
        "\n",
        "(6) The majority of null values in the dataset are found in the director column.\n",
        "\n",
        "\n",
        "(7) The United States has the highest number of TV Shows, as they occupy the first position in \"Top 15 Countries on Netflix\" graph\n",
        "\n"
      ],
      "metadata": {
        "id": "itU_4p7g0bn4"
      }
    },
    {
      "cell_type": "code",
      "source": [],
      "metadata": {
        "id": "m_Loo4ST8GwI"
      },
      "execution_count": null,
      "outputs": []
    },
    {
      "cell_type": "code",
      "source": [],
      "metadata": {
        "id": "zVinzdl46bRm"
      },
      "execution_count": null,
      "outputs": []
    },
    {
      "cell_type": "code",
      "source": [],
      "metadata": {
        "id": "xm6jyCG3yrlk"
      },
      "execution_count": null,
      "outputs": []
    },
    {
      "cell_type": "code",
      "source": [],
      "metadata": {
        "id": "W_50eFyjs6ZK"
      },
      "execution_count": null,
      "outputs": []
    }
  ]
}
