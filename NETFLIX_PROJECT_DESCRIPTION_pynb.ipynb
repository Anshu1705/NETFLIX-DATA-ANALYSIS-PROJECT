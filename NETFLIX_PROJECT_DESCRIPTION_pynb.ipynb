{
  "nbformat": 4,
  "nbformat_minor": 0,
  "metadata": {
    "colab": {
      "private_outputs": true,
      "provenance": [],
      "collapsed_sections": [
        "gkDESt6Y2UF_"
      ]
    },
    "kernelspec": {
      "name": "python3",
      "display_name": "Python 3"
    },
    "language_info": {
      "name": "python"
    }
  },
  "cells": [
    {
      "cell_type": "markdown",
      "source": [
        "# Netflix Data Analysis Project"
      ],
      "metadata": {
        "id": "Pb2FqhHux-8X"
      }
    },
    {
      "cell_type": "markdown",
      "source": [
        "Netflix is one of the largest streaming platform nowadays, In this project, I analyzed their dataset of movies and TV shows using Python, Pandas , Seaborn, Matplotlib. After this analysis , we will gain a better understanding of the platform and derive meaningful insights from the data through visualized graphs."
      ],
      "metadata": {
        "id": "MuSdqB7CWjB2"
      }
    },
    {
      "cell_type": "markdown",
      "source": [
        "# Dataset Description"
      ],
      "metadata": {
        "id": "tlNgnx-DWpfI"
      }
    },
    {
      "cell_type": "markdown",
      "source": [
        "This dataset contains information about +8000 movies & TV Shows. Netflix is one of the most popular media and video streaming platforms,as of mid 2021, they have over 222M Subscribers globally. This tabular dataset consists of listings of all the movies and TV Shows available on Netflix ,along with details such as- cast, director,rating,release year,duration,etc.\n",
        "\n",
        "The analysis covers various aspects of the dataset, including data cleaning, exploratory data analysis, and data visualization. It provides insights into the distribution of content, ratings, genres, countries, and other factors within the Netflix library.\n",
        "\n"
      ],
      "metadata": {
        "id": "ZN83WHiVW08-"
      }
    },
    {
      "cell_type": "markdown",
      "source": [
        "# Usage"
      ],
      "metadata": {
        "id": "qf6kV6Ce4WDp"
      }
    },
    {
      "cell_type": "markdown",
      "source": [
        "(1) Download the Netflix dataset (netflix.csv) and place it in the same directory as the Python script.\n",
        "\n",
        "(2) Open the Python script in a suitable environment (e.g., Google Colab, Jupyter Notebook or any Python IDE).\n",
        "\n",
        "(3) Run the script. It will load and analyze the Netflix data, generating various visualizations and insights.\n",
        "\n",
        "(4) Explore the generated plots and insights to gain a better understanding of the Netflix dataset."
      ],
      "metadata": {
        "id": "Qf_BvvQ_4bCp"
      }
    },
    {
      "cell_type": "markdown",
      "source": [
        "# Understanding the Dataset"
      ],
      "metadata": {
        "id": "gkDESt6Y2UF_"
      }
    },
    {
      "cell_type": "markdown",
      "source": [
        "Show_id: Unique ID for every Movie / Tv Show\n",
        "\n",
        "Type: Identifier - A Movie or TV Show\n",
        "\n",
        "Title: Title of the Movie / Tv Show\n",
        "\n",
        "Director: Director of the Movie\n",
        "\n",
        "Cast: Actors involved in the movie/show\n",
        "\n",
        "Country: Country where the movie/show was produced\n",
        "\n",
        "Date_added: Date it was added on Netflix\n",
        "\n",
        "Release_year: Actual Release year of the movie/show\n",
        "\n",
        "Rating: Maturity Rating of the movie/show\n",
        "\n",
        "Duration: Total Duration - in minutes or number of seasons\n",
        "\n",
        "Listed_in: Genre\n",
        "\n",
        "Description: The summary description"
      ],
      "metadata": {
        "id": "O2Iy2UTP2cKZ"
      }
    },
    {
      "cell_type": "markdown",
      "source": [
        "# EDA Questions:"
      ],
      "metadata": {
        "id": "arkMlbtJ3wre"
      }
    },
    {
      "cell_type": "markdown",
      "source": [
        "Q1. For \"House of Cards\", what is the show ID and who is the director of this show?\n",
        "\n",
        "Q2. In which year the highest number of movies and TV shows were released? w/Bar graph\n",
        "\n",
        "Q3.How many movies& TV shows are in this dataset?\n",
        "\n",
        "Q4. Show all the movies that were released in 2021\n",
        "\n",
        "Q5. Show only the Title of all TV shows that were released in United States only\n",
        "\n",
        "Q6. Top 15 countries on Netflix based on amount of content\n",
        "\n",
        "Q7. Show Top 10 Directors who gave the highest number of TV shows& Movies to Netflix\n",
        "\n",
        "Q8. Show all the Records, where \"type is TV Show and listed_in is British TV Shows\" or \"Country is United Kingdom\".\n",
        "\n",
        "Q9. In how many movies/shows, Tom Cuise was cast?\n",
        "\n",
        "Q10. What are the different Ratings defined by Netflix?\n",
        "\n",
        "Q11. What is the maximum duration of a movie/tv show on Netflix?\n",
        "\n",
        "Q12. Which individual country has the Highest No. of TV Shows?\n",
        "\n",
        "Q13. How can we sort the dataset by Year?\n",
        "\n",
        "Q14. Find all the instances where:type is 'movie' and listed_in is 'Dramas'or type is'TV Show'& listed_in is 'Kids''TV'\n",
        "\n",
        "\n"
      ],
      "metadata": {
        "id": "U5wdAHcn5UAe"
      }
    },
    {
      "cell_type": "markdown",
      "source": [
        "# Data Wrangling"
      ],
      "metadata": {
        "id": "l1B4oIHq97S_"
      }
    },
    {
      "cell_type": "markdown",
      "source": [
        "Our data can be found on netflix_titles.csv file provided on this repository, downloaded from Kaggle."
      ],
      "metadata": {
        "id": "WRVPE5JY-BAU"
      }
    },
    {
      "cell_type": "markdown",
      "source": [
        "# Data Cleaning:"
      ],
      "metadata": {
        "id": "elsHhIru-3Tj"
      }
    },
    {
      "cell_type": "markdown",
      "source": [
        "\n",
        "(1) Deleting redundant columns.\n",
        "\n",
        "(2) Dropping duplicates.\n",
        "\n",
        "(3) Cleaning individual columns.\n",
        "\n",
        "(4) Remove the Nan values from the Dataset.\n",
        "\n",
        "(5) Some Transformations.\n",
        "\n",
        "This tabular dataset consists of listings of all the movies and TV shows available on Netflix, along with details such as- cast, directors, ratings, release year, duration,etc.I have cleaned this dataset using Python, and the code can be found on the repository.\n"
      ],
      "metadata": {
        "id": "x3TnyRlD-9Jh"
      }
    },
    {
      "cell_type": "markdown",
      "source": [
        "# Data Visualization"
      ],
      "metadata": {
        "id": "qeDc6QPJGR1q"
      }
    },
    {
      "cell_type": "markdown",
      "source": [
        "Using Matplotlib and Seaborn, we made several meaningful visuals and charts to help us gain informative insights regarding any correlation between attributes in our dataset, that'll be discussed in the next section."
      ],
      "metadata": {
        "id": "MSSTI7yBGbH6"
      }
    },
    {
      "cell_type": "markdown",
      "source": [
        "# Conclusions and Insights"
      ],
      "metadata": {
        "id": "lg6caXzkI3vC"
      }
    },
    {
      "cell_type": "markdown",
      "source": [
        "(1) The number of movies and TV shows on Netflix has been steadily increasing until 2019, but there was a decrease in content in 2020. This decline might be due to the COVID-19 pandemic, which likely affected the production and availability of new content during that year.\n",
        "\n",
        "(2) The dataset consists of a total of 8807 content items,with 6,131 movies and 2,676 TV Shows.Each year,the dataset consistently exhibits a higher count of movies compared to TV Shows except 2021.\n",
        "\n",
        "(3) The United States has the most content on Netflix, followed by India in second place and the United Kingdom in third place.In terms of quantity, the United States takes the lead on Netflix with over 3,000 content items emphasizing its dominant position.In contrast,India two countries when it comes to the number of content on Netflix.\n",
        "\n",
        "(4) There are several Asian countries that rank prominently. This indicates a growing trend of anime and K-drama on Netflix,reflecting their popularity among viewers.\n",
        "\n",
        "(5) The most common rating on Netflix is \"TV-MA\",This indicates that there is a higher proportion of content targeted toward mature audiences rather than younger viewers.\n",
        "\n",
        "(6) We discovered that the longest content on Netflix has a duration of 312 minutes.\n",
        "\n",
        "(6) The majority of null values in the dataset are found in the director column.\n",
        "\n",
        "(7) The United States has the highest number of TV Shows, as they occupy the first position in \"Top 15 Countries on Netflix\" graph"
      ],
      "metadata": {
        "id": "QhaVAuA0JCAS"
      }
    },
    {
      "cell_type": "markdown",
      "source": [
        "# Built With"
      ],
      "metadata": {
        "id": "OdgjLBK2MDaU"
      }
    },
    {
      "cell_type": "markdown",
      "source": [
        ". Google Colab\n",
        "\n",
        ". Pandas\n",
        "\n",
        ". Numpy\n",
        "\n",
        ". Matplotlib\n",
        "\n",
        ". Seaborn\n"
      ],
      "metadata": {
        "id": "UzJoWy3dMGDE"
      }
    }
  ]
}